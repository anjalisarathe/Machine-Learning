{
  "nbformat": 4,
  "nbformat_minor": 0,
  "metadata": {
    "colab": {
      "provenance": [],
      "include_colab_link": true
    },
    "kernelspec": {
      "name": "python3",
      "display_name": "Python 3"
    },
    "language_info": {
      "name": "python"
    },
    "accelerator": "GPU"
  },
  "cells": [
    {
      "cell_type": "markdown",
      "metadata": {
        "id": "view-in-github",
        "colab_type": "text"
      },
      "source": [
        "<a href=\"https://colab.research.google.com/github/anjalisarathe/Machine-Learning/blob/main/Lab_7_%5BClassification_using_ANN%5D_.ipynb\" target=\"_parent\"><img src=\"https://colab.research.google.com/assets/colab-badge.svg\" alt=\"Open In Colab\"/></a>"
      ]
    },
    {
      "cell_type": "markdown",
      "metadata": {
        "id": "JT4a4dwlqhsd"
      },
      "source": [
        "# Joint Online Faculty Development programme on Deep Learning (Parallel Architecture) Aug 23 – Sep 3 , 2021"
      ]
    },
    {
      "cell_type": "markdown",
      "metadata": {
        "id": "XwMdAK1XqmPI"
      },
      "source": [
        "# Tutorial 4: Covid 19 Prediction using Artificial Neural Networks"
      ]
    },
    {
      "cell_type": "markdown",
      "metadata": {
        "id": "y9dbM1bxjvnU"
      },
      "source": [
        "Dataset: [Covid 19 Chest X-ray dataset](https://www.kaggle.com/tawsifurrahman/covid19-radiography-database)\n",
        "\n",
        "\n",
        "A team of researchers from Qatar University, Doha, Qatar, and the University of Dhaka, Bangladesh along with their collaborators from Pakistan and Malaysia in collaboration with medical doctors have created a database of chest X-ray images for COVID-19 positive cases along with Normal and Viral Pneumonia images. This COVID-19, normal, and other lung infection dataset is released in stages. In the first release, we have released 219 COVID-19, 1341 normal, and 1345 viral pneumonia chest X-ray (CXR) images. In the first update, we have increased the COVID-19 class to 1200 CXR images. In the 2nd update, we have increased the database to 3616 COVID-19 positive cases along with 10,192 Normal, 6012 Lung Opacity (Non-COVID lung infection), and 1345 Viral Pneumonia images. We will continue to update this database as soon as we have new x-ray images for COVID-19 pneumonia patients.\n",
        "\n"
      ]
    },
    {
      "cell_type": "markdown",
      "metadata": {
        "id": "9mHnC6nNtBK1"
      },
      "source": [
        "**1. Mount the Google Drive**"
      ]
    },
    {
      "cell_type": "code",
      "metadata": {
        "id": "gORvsC4_s_fY",
        "colab": {
          "base_uri": "https://localhost:8080/"
        },
        "outputId": "abea8ff9-e255-430d-9769-d82b7232614d"
      },
      "source": [
        "from google.colab import drive\n",
        "drive.mount('/content/drive')"
      ],
      "execution_count": 3,
      "outputs": [
        {
          "output_type": "stream",
          "name": "stdout",
          "text": [
            "Drive already mounted at /content/drive; to attempt to forcibly remount, call drive.mount(\"/content/drive\", force_remount=True).\n"
          ]
        }
      ]
    },
    {
      "cell_type": "markdown",
      "metadata": {
        "id": "wiZOocimtGeu"
      },
      "source": [
        "**2. Move to the place where data resides**"
      ]
    },
    {
      "cell_type": "code",
      "metadata": {
        "id": "EdbGFIkPlah9"
      },
      "source": [
        "!cd /content/drive/MyDrive/CSIT1/"
      ],
      "execution_count": 4,
      "outputs": []
    },
    {
      "cell_type": "code",
      "source": [
        "!pwd\n"
      ],
      "metadata": {
        "colab": {
          "base_uri": "https://localhost:8080/"
        },
        "id": "4DnwwyuhBGTf",
        "outputId": "95e6f74b-d7f2-4859-94f9-f6a7ba65e7d8"
      },
      "execution_count": 5,
      "outputs": [
        {
          "output_type": "stream",
          "name": "stdout",
          "text": [
            "/content\n"
          ]
        }
      ]
    },
    {
      "cell_type": "code",
      "metadata": {
        "id": "lqViJFpyjxJZ",
        "colab": {
          "base_uri": "https://localhost:8080/"
        },
        "outputId": "e9912994-22fd-4843-9942-02c2dfca3372"
      },
      "source": [
        "!ls"
      ],
      "execution_count": 6,
      "outputs": [
        {
          "output_type": "stream",
          "name": "stdout",
          "text": [
            "drive  sample_data\n"
          ]
        }
      ]
    },
    {
      "cell_type": "markdown",
      "metadata": {
        "id": "0e8v2RY-tKUs"
      },
      "source": [
        "**3. Unziping the dataset**"
      ]
    },
    {
      "cell_type": "code",
      "source": [
        "!pip install unzip"
      ],
      "metadata": {
        "colab": {
          "base_uri": "https://localhost:8080/"
        },
        "id": "PYfX_i50jzOc",
        "outputId": "f006c145-e2b1-497b-e172-fa67c1b5dddd"
      },
      "execution_count": 7,
      "outputs": [
        {
          "output_type": "stream",
          "name": "stdout",
          "text": [
            "Collecting unzip\n",
            "  Downloading unzip-1.0.0.tar.gz (704 bytes)\n",
            "  Preparing metadata (setup.py) ... \u001b[?25l\u001b[?25hdone\n",
            "Building wheels for collected packages: unzip\n",
            "  Building wheel for unzip (setup.py) ... \u001b[?25l\u001b[?25hdone\n",
            "  Created wheel for unzip: filename=unzip-1.0.0-py3-none-any.whl size=1283 sha256=e57827cd2287ce203677b86be43ccf2d9a1fb9efd99413c72c179b63a91c28f9\n",
            "  Stored in directory: /root/.cache/pip/wheels/80/dc/7a/f8af45bc239e7933509183f038ea8d46f3610aab82b35369f4\n",
            "Successfully built unzip\n",
            "Installing collected packages: unzip\n",
            "Successfully installed unzip-1.0.0\n"
          ]
        }
      ]
    },
    {
      "cell_type": "code",
      "metadata": {
        "id": "kOWDshT6lb8K",
        "colab": {
          "base_uri": "https://localhost:8080/"
        },
        "outputId": "5861cb14-5b9e-4b48-f6af-ae3939b17929"
      },
      "source": [
        "!unzip  /content/drive/MyDrive/CSIT1/covid_dataset.zip"
      ],
      "execution_count": 8,
      "outputs": [
        {
          "output_type": "stream",
          "name": "stdout",
          "text": [
            "Archive:  /content/drive/MyDrive/CSIT1/covid_dataset.zip\n",
            "   creating: covid_dataset/\n",
            "   creating: covid_dataset/COVID/\n",
            "  inflating: covid_dataset/COVID/COVID-1.png  \n",
            "  inflating: covid_dataset/COVID/COVID-10.png  \n",
            "  inflating: covid_dataset/COVID/COVID-11.png  \n",
            "  inflating: covid_dataset/COVID/COVID-12.png  \n",
            "  inflating: covid_dataset/COVID/COVID-13.png  \n",
            "  inflating: covid_dataset/COVID/COVID-14.png  \n",
            "  inflating: covid_dataset/COVID/COVID-15.png  \n",
            "  inflating: covid_dataset/COVID/COVID-16.png  \n",
            "  inflating: covid_dataset/COVID/COVID-17.png  \n",
            "  inflating: covid_dataset/COVID/COVID-18.png  \n",
            "  inflating: covid_dataset/COVID/COVID-19.png  \n",
            "  inflating: covid_dataset/COVID/COVID-2.png  \n",
            "  inflating: covid_dataset/COVID/COVID-20.png  \n",
            "  inflating: covid_dataset/COVID/COVID-21.png  \n",
            "  inflating: covid_dataset/COVID/COVID-22.png  \n",
            "  inflating: covid_dataset/COVID/COVID-23.png  \n",
            "  inflating: covid_dataset/COVID/COVID-24.png  \n",
            "  inflating: covid_dataset/COVID/COVID-25.png  \n",
            "  inflating: covid_dataset/COVID/COVID-26.png  \n",
            "  inflating: covid_dataset/COVID/COVID-27.png  \n",
            "  inflating: covid_dataset/COVID/COVID-28.png  \n",
            "  inflating: covid_dataset/COVID/COVID-29.png  \n",
            "  inflating: covid_dataset/COVID/COVID-3.png  \n",
            "  inflating: covid_dataset/COVID/COVID-30.png  \n",
            "  inflating: covid_dataset/COVID/COVID-31.png  \n",
            "  inflating: covid_dataset/COVID/COVID-32.png  \n",
            "  inflating: covid_dataset/COVID/COVID-33.png  \n",
            "  inflating: covid_dataset/COVID/COVID-34.png  \n",
            "  inflating: covid_dataset/COVID/COVID-35.png  \n",
            "  inflating: covid_dataset/COVID/COVID-36.png  \n",
            "  inflating: covid_dataset/COVID/COVID-37.png  \n",
            "  inflating: covid_dataset/COVID/COVID-38.png  \n",
            "  inflating: covid_dataset/COVID/COVID-39.png  \n",
            "  inflating: covid_dataset/COVID/COVID-4.png  \n",
            "  inflating: covid_dataset/COVID/COVID-40.png  \n",
            "  inflating: covid_dataset/COVID/COVID-41.png  \n",
            "  inflating: covid_dataset/COVID/COVID-42.png  \n",
            "  inflating: covid_dataset/COVID/COVID-43.png  \n",
            "  inflating: covid_dataset/COVID/COVID-44.png  \n",
            "  inflating: covid_dataset/COVID/COVID-45.png  \n",
            "  inflating: covid_dataset/COVID/COVID-46.png  \n",
            "  inflating: covid_dataset/COVID/COVID-47.png  \n",
            "  inflating: covid_dataset/COVID/COVID-48.png  \n",
            "  inflating: covid_dataset/COVID/COVID-49.png  \n",
            "  inflating: covid_dataset/COVID/COVID-5.png  \n",
            "  inflating: covid_dataset/COVID/COVID-50.png  \n",
            "  inflating: covid_dataset/COVID/COVID-6.png  \n",
            "  inflating: covid_dataset/COVID/COVID-7.png  \n",
            "  inflating: covid_dataset/COVID/COVID-8.png  \n",
            "  inflating: covid_dataset/COVID/COVID-9.png  \n",
            "   creating: covid_dataset/Normal/\n",
            "  inflating: covid_dataset/Normal/Normal-1.png  \n",
            "  inflating: covid_dataset/Normal/Normal-10.png  \n",
            "  inflating: covid_dataset/Normal/Normal-11.png  \n",
            "  inflating: covid_dataset/Normal/Normal-12.png  \n",
            "  inflating: covid_dataset/Normal/Normal-13.png  \n",
            "  inflating: covid_dataset/Normal/Normal-14.png  \n",
            "  inflating: covid_dataset/Normal/Normal-15.png  \n",
            "  inflating: covid_dataset/Normal/Normal-16.png  \n",
            "  inflating: covid_dataset/Normal/Normal-17.png  \n",
            "  inflating: covid_dataset/Normal/Normal-18.png  \n",
            "  inflating: covid_dataset/Normal/Normal-19.png  \n",
            "  inflating: covid_dataset/Normal/Normal-2.png  \n",
            "  inflating: covid_dataset/Normal/Normal-20.png  \n",
            "  inflating: covid_dataset/Normal/Normal-21.png  \n",
            "  inflating: covid_dataset/Normal/Normal-22.png  \n",
            "  inflating: covid_dataset/Normal/Normal-23.png  \n",
            "  inflating: covid_dataset/Normal/Normal-24.png  \n",
            "  inflating: covid_dataset/Normal/Normal-25.png  \n",
            "  inflating: covid_dataset/Normal/Normal-26.png  \n",
            "  inflating: covid_dataset/Normal/Normal-27.png  \n",
            "  inflating: covid_dataset/Normal/Normal-28.png  \n",
            "  inflating: covid_dataset/Normal/Normal-29.png  \n",
            "  inflating: covid_dataset/Normal/Normal-3.png  \n",
            "  inflating: covid_dataset/Normal/Normal-30.png  \n",
            "  inflating: covid_dataset/Normal/Normal-31.png  \n",
            "  inflating: covid_dataset/Normal/Normal-32.png  \n",
            "  inflating: covid_dataset/Normal/Normal-33.png  \n",
            "  inflating: covid_dataset/Normal/Normal-34.png  \n",
            "  inflating: covid_dataset/Normal/Normal-35.png  \n",
            "  inflating: covid_dataset/Normal/Normal-36.png  \n",
            "  inflating: covid_dataset/Normal/Normal-37.png  \n",
            "  inflating: covid_dataset/Normal/Normal-38.png  \n",
            "  inflating: covid_dataset/Normal/Normal-39.png  \n",
            "  inflating: covid_dataset/Normal/Normal-4.png  \n",
            "  inflating: covid_dataset/Normal/Normal-40.png  \n",
            "  inflating: covid_dataset/Normal/Normal-41.png  \n",
            "  inflating: covid_dataset/Normal/Normal-42.png  \n",
            "  inflating: covid_dataset/Normal/Normal-43.png  \n",
            "  inflating: covid_dataset/Normal/Normal-44.png  \n",
            "  inflating: covid_dataset/Normal/Normal-45.png  \n",
            "  inflating: covid_dataset/Normal/Normal-46.png  \n",
            "  inflating: covid_dataset/Normal/Normal-47.png  \n",
            "  inflating: covid_dataset/Normal/Normal-48.png  \n",
            "  inflating: covid_dataset/Normal/Normal-49.png  \n",
            "  inflating: covid_dataset/Normal/Normal-5.png  \n",
            "  inflating: covid_dataset/Normal/Normal-50.png  \n",
            "  inflating: covid_dataset/Normal/Normal-6.png  \n",
            "  inflating: covid_dataset/Normal/Normal-7.png  \n",
            "  inflating: covid_dataset/Normal/Normal-8.png  \n",
            "  inflating: covid_dataset/Normal/Normal-9.png  \n",
            "   creating: covid_dataset/Viral Pneumonia/\n",
            "  inflating: covid_dataset/Viral Pneumonia/Viral Pneumonia-1.png  \n",
            "  inflating: covid_dataset/Viral Pneumonia/Viral Pneumonia-10.png  \n",
            "  inflating: covid_dataset/Viral Pneumonia/Viral Pneumonia-11.png  \n",
            "  inflating: covid_dataset/Viral Pneumonia/Viral Pneumonia-12.png  \n",
            "  inflating: covid_dataset/Viral Pneumonia/Viral Pneumonia-13.png  \n",
            "  inflating: covid_dataset/Viral Pneumonia/Viral Pneumonia-14.png  \n",
            "  inflating: covid_dataset/Viral Pneumonia/Viral Pneumonia-15.png  \n",
            "  inflating: covid_dataset/Viral Pneumonia/Viral Pneumonia-16.png  \n",
            "  inflating: covid_dataset/Viral Pneumonia/Viral Pneumonia-17.png  \n",
            "  inflating: covid_dataset/Viral Pneumonia/Viral Pneumonia-18.png  \n",
            "  inflating: covid_dataset/Viral Pneumonia/Viral Pneumonia-19.png  \n",
            "  inflating: covid_dataset/Viral Pneumonia/Viral Pneumonia-2.png  \n",
            "  inflating: covid_dataset/Viral Pneumonia/Viral Pneumonia-20.png  \n",
            "  inflating: covid_dataset/Viral Pneumonia/Viral Pneumonia-21.png  \n",
            "  inflating: covid_dataset/Viral Pneumonia/Viral Pneumonia-22.png  \n",
            "  inflating: covid_dataset/Viral Pneumonia/Viral Pneumonia-23.png  \n",
            "  inflating: covid_dataset/Viral Pneumonia/Viral Pneumonia-24.png  \n",
            "  inflating: covid_dataset/Viral Pneumonia/Viral Pneumonia-25.png  \n",
            "  inflating: covid_dataset/Viral Pneumonia/Viral Pneumonia-26.png  \n",
            "  inflating: covid_dataset/Viral Pneumonia/Viral Pneumonia-27.png  \n",
            "  inflating: covid_dataset/Viral Pneumonia/Viral Pneumonia-28.png  \n",
            "  inflating: covid_dataset/Viral Pneumonia/Viral Pneumonia-29.png  \n",
            "  inflating: covid_dataset/Viral Pneumonia/Viral Pneumonia-3.png  \n",
            "  inflating: covid_dataset/Viral Pneumonia/Viral Pneumonia-30.png  \n",
            "  inflating: covid_dataset/Viral Pneumonia/Viral Pneumonia-31.png  \n",
            "  inflating: covid_dataset/Viral Pneumonia/Viral Pneumonia-32.png  \n",
            "  inflating: covid_dataset/Viral Pneumonia/Viral Pneumonia-33.png  \n",
            "  inflating: covid_dataset/Viral Pneumonia/Viral Pneumonia-34.png  \n",
            "  inflating: covid_dataset/Viral Pneumonia/Viral Pneumonia-35.png  \n",
            "  inflating: covid_dataset/Viral Pneumonia/Viral Pneumonia-36.png  \n",
            "  inflating: covid_dataset/Viral Pneumonia/Viral Pneumonia-37.png  \n",
            "  inflating: covid_dataset/Viral Pneumonia/Viral Pneumonia-38.png  \n",
            "  inflating: covid_dataset/Viral Pneumonia/Viral Pneumonia-39.png  \n",
            "  inflating: covid_dataset/Viral Pneumonia/Viral Pneumonia-4.png  \n",
            "  inflating: covid_dataset/Viral Pneumonia/Viral Pneumonia-40.png  \n",
            "  inflating: covid_dataset/Viral Pneumonia/Viral Pneumonia-41.png  \n",
            "  inflating: covid_dataset/Viral Pneumonia/Viral Pneumonia-42.png  \n",
            "  inflating: covid_dataset/Viral Pneumonia/Viral Pneumonia-43.png  \n",
            "  inflating: covid_dataset/Viral Pneumonia/Viral Pneumonia-44.png  \n",
            "  inflating: covid_dataset/Viral Pneumonia/Viral Pneumonia-45.png  \n",
            "  inflating: covid_dataset/Viral Pneumonia/Viral Pneumonia-46.png  \n",
            "  inflating: covid_dataset/Viral Pneumonia/Viral Pneumonia-47.png  \n",
            "  inflating: covid_dataset/Viral Pneumonia/Viral Pneumonia-48.png  \n",
            "  inflating: covid_dataset/Viral Pneumonia/Viral Pneumonia-49.png  \n",
            "  inflating: covid_dataset/Viral Pneumonia/Viral Pneumonia-5.png  \n",
            "  inflating: covid_dataset/Viral Pneumonia/Viral Pneumonia-50.png  \n",
            "  inflating: covid_dataset/Viral Pneumonia/Viral Pneumonia-6.png  \n",
            "  inflating: covid_dataset/Viral Pneumonia/Viral Pneumonia-7.png  \n",
            "  inflating: covid_dataset/Viral Pneumonia/Viral Pneumonia-8.png  \n",
            "  inflating: covid_dataset/Viral Pneumonia/Viral Pneumonia-9.png  \n"
          ]
        }
      ]
    },
    {
      "cell_type": "markdown",
      "metadata": {
        "id": "xvuRmzA0tNw0"
      },
      "source": [
        "**4. Install split folder python package**\n",
        "\n",
        "https://pypi.org/project/split-folders/"
      ]
    },
    {
      "cell_type": "code",
      "metadata": {
        "id": "r-4b_r2qlenB",
        "colab": {
          "base_uri": "https://localhost:8080/"
        },
        "outputId": "74511ed4-ee56-4825-d6e2-e0a3bd247200"
      },
      "source": [
        "!pip install split_folders"
      ],
      "execution_count": 9,
      "outputs": [
        {
          "output_type": "stream",
          "name": "stdout",
          "text": [
            "Collecting split_folders\n",
            "  Downloading split_folders-0.5.1-py3-none-any.whl (8.4 kB)\n",
            "Installing collected packages: split_folders\n",
            "Successfully installed split_folders-0.5.1\n"
          ]
        }
      ]
    },
    {
      "cell_type": "markdown",
      "metadata": {
        "id": "yq0KuuUatVi-"
      },
      "source": [
        "**5. Splitting the data in training, testing and validation set**"
      ]
    },
    {
      "cell_type": "code",
      "metadata": {
        "id": "8xXGHVOIlheA",
        "colab": {
          "base_uri": "https://localhost:8080/"
        },
        "outputId": "558af500-a22e-4850-f6c0-08bdf3ec0949"
      },
      "source": [
        "import splitfolders\n",
        "splitfolders.ratio(\"covid_dataset\", output=\"split\", seed=1337, ratio=(.8, .1, .1), group_prefix=None)"
      ],
      "execution_count": 10,
      "outputs": [
        {
          "output_type": "stream",
          "name": "stderr",
          "text": [
            "Copying files: 150 files [00:00, 2682.07 files/s]\n"
          ]
        }
      ]
    },
    {
      "cell_type": "code",
      "source": [
        "import splitfolders\n",
        "splitfolders.ratio(\"covid_dataset\", output=\"split\", seed=1337, ratio=(.8, .1, .1), group_prefix=None)"
      ],
      "metadata": {
        "colab": {
          "base_uri": "https://localhost:8080/"
        },
        "id": "YlqeXzb0AXtS",
        "outputId": "a6efcc22-1543-4944-b49d-1d1941750835"
      },
      "execution_count": 11,
      "outputs": [
        {
          "output_type": "stream",
          "name": "stderr",
          "text": [
            "Copying files: 150 files [00:00, 3986.53 files/s]\n"
          ]
        }
      ]
    },
    {
      "cell_type": "markdown",
      "metadata": {
        "id": "4_rTBEKCtaTR"
      },
      "source": [
        "**6. Loading the dataset with normalization in batches**"
      ]
    },
    {
      "cell_type": "code",
      "metadata": {
        "id": "4of-TiQPlkCZ",
        "colab": {
          "base_uri": "https://localhost:8080/"
        },
        "outputId": "e8640f27-bea5-4896-855e-27ce9a22724b"
      },
      "source": [
        "from keras.preprocessing.image import ImageDataGenerator\n",
        "\n",
        "# Normalize training and validation data in the range of 0 to 1\n",
        "train_datagen = ImageDataGenerator(rescale=1./255)\n",
        "validation_datagen = ImageDataGenerator(rescale=1./255)\n",
        "test_datagen = ImageDataGenerator(rescale=1./255)\n",
        "\n",
        "# Read the training sample and set the batch size\n",
        "train_generator = train_datagen.flow_from_directory(\n",
        "        'split/train/',\n",
        "        target_size=(128, 128),\n",
        "        batch_size=8,\n",
        "        seed=100,\n",
        "        class_mode='categorical')\n",
        "\n",
        "# Read Validation data from directory and define target size with batch size\n",
        "validation_generator = validation_datagen.flow_from_directory(\n",
        "        'split/val/',\n",
        "        target_size=(128, 128),\n",
        "        batch_size=8,\n",
        "        class_mode='categorical',\n",
        "        seed=1000,\n",
        "        shuffle=False)\n",
        "\n",
        "test_generator = test_datagen.flow_from_directory(\n",
        "        'split/test/',\n",
        "        target_size=(128, 128),\n",
        "        batch_size=8,\n",
        "        seed=500,\n",
        "        class_mode='categorical',\n",
        "        shuffle=False)"
      ],
      "execution_count": 12,
      "outputs": [
        {
          "output_type": "stream",
          "name": "stdout",
          "text": [
            "Found 120 images belonging to 3 classes.\n",
            "Found 15 images belonging to 3 classes.\n",
            "Found 15 images belonging to 3 classes.\n"
          ]
        }
      ]
    },
    {
      "cell_type": "markdown",
      "metadata": {
        "id": "ZqmlFmyitf8O"
      },
      "source": [
        "**7. Model Building**"
      ]
    },
    {
      "cell_type": "code",
      "metadata": {
        "id": "RrA7f0eKl4tH",
        "colab": {
          "base_uri": "https://localhost:8080/"
        },
        "outputId": "e9b3dcb7-ca96-46e8-d92e-363414fdf8bd"
      },
      "source": [
        "from tensorflow import keras\n",
        "from tensorflow.keras import layers\n",
        "inputs = keras.Input(shape=(128, 128,3))\n",
        "x = layers.Flatten()(inputs)\n",
        "x = layers.Dense(64, activation=\"relu\")(x)\n",
        "x = layers.Dense(32, activation=\"relu\")(x)\n",
        "x = layers.Dense(64, activation='relu')(x)\n",
        "outputs = layers.Dense(3, activation=\"softmax\")(x)\n",
        "model = keras.Model(inputs, outputs)\n",
        "model.summary()"
      ],
      "execution_count": 30,
      "outputs": [
        {
          "output_type": "stream",
          "name": "stdout",
          "text": [
            "Model: \"model_2\"\n",
            "_________________________________________________________________\n",
            " Layer (type)                Output Shape              Param #   \n",
            "=================================================================\n",
            " input_3 (InputLayer)        [(None, 128, 128, 3)]     0         \n",
            "                                                                 \n",
            " flatten_2 (Flatten)         (None, 49152)             0         \n",
            "                                                                 \n",
            " dense_7 (Dense)             (None, 64)                3145792   \n",
            "                                                                 \n",
            " dense_8 (Dense)             (None, 32)                2080      \n",
            "                                                                 \n",
            " dense_9 (Dense)             (None, 64)                2112      \n",
            "                                                                 \n",
            " dense_10 (Dense)            (None, 3)                 195       \n",
            "                                                                 \n",
            "=================================================================\n",
            "Total params: 3150179 (12.02 MB)\n",
            "Trainable params: 3150179 (12.02 MB)\n",
            "Non-trainable params: 0 (0.00 Byte)\n",
            "_________________________________________________________________\n"
          ]
        }
      ]
    },
    {
      "cell_type": "markdown",
      "metadata": {
        "id": "_437haxhtjFa"
      },
      "source": [
        "**8. Model Compilation and Training**"
      ]
    },
    {
      "cell_type": "code",
      "metadata": {
        "id": "DixxjVJelrcg",
        "colab": {
          "base_uri": "https://localhost:8080/"
        },
        "outputId": "8e616162-7db9-477b-d0ba-7794a5c19f1d"
      },
      "source": [
        "from tensorflow.keras.optimizers import Adam\n",
        "\n",
        "adam = Adam(learning_rate=0.0001)\n",
        "# We are going to use accuracy metrics and cross entropy loss as performance parameters\n",
        "model.compile(adam, loss='categorical_crossentropy', metrics=['acc'])\n",
        "# Train the model\n",
        "history = model.fit(train_generator,\n",
        "      steps_per_epoch=train_generator.samples/train_generator.batch_size,\n",
        "      epochs=100,\n",
        "      validation_data=validation_generator,\n",
        "      validation_steps=validation_generator.samples/validation_generator.batch_size,\n",
        "      verbose=1)"
      ],
      "execution_count": 31,
      "outputs": [
        {
          "output_type": "stream",
          "name": "stdout",
          "text": [
            "Epoch 1/100\n",
            "15/15 [==============================] - 2s 35ms/step - loss: 1.0278 - acc: 0.4500 - val_loss: 0.9665 - val_acc: 0.6000\n",
            "Epoch 2/100\n",
            "15/15 [==============================] - 0s 24ms/step - loss: 0.7993 - acc: 0.6500 - val_loss: 0.6366 - val_acc: 0.8000\n",
            "Epoch 3/100\n",
            "15/15 [==============================] - 0s 25ms/step - loss: 0.6273 - acc: 0.7583 - val_loss: 0.5924 - val_acc: 0.7333\n",
            "Epoch 4/100\n",
            "15/15 [==============================] - 0s 27ms/step - loss: 0.5950 - acc: 0.7000 - val_loss: 0.5603 - val_acc: 0.7333\n",
            "Epoch 5/100\n",
            "15/15 [==============================] - 0s 28ms/step - loss: 0.5444 - acc: 0.7167 - val_loss: 0.4742 - val_acc: 0.8000\n",
            "Epoch 6/100\n",
            "15/15 [==============================] - 0s 25ms/step - loss: 0.5363 - acc: 0.7750 - val_loss: 0.6116 - val_acc: 0.6000\n",
            "Epoch 7/100\n",
            "15/15 [==============================] - 0s 25ms/step - loss: 0.5645 - acc: 0.7417 - val_loss: 0.5811 - val_acc: 0.6667\n",
            "Epoch 8/100\n",
            "15/15 [==============================] - 0s 24ms/step - loss: 0.4719 - acc: 0.7833 - val_loss: 0.4833 - val_acc: 0.8667\n",
            "Epoch 9/100\n",
            "15/15 [==============================] - 0s 24ms/step - loss: 0.5186 - acc: 0.7750 - val_loss: 0.4837 - val_acc: 0.7333\n",
            "Epoch 10/100\n",
            "15/15 [==============================] - 0s 24ms/step - loss: 0.5100 - acc: 0.8000 - val_loss: 0.4388 - val_acc: 0.8000\n",
            "Epoch 11/100\n",
            "15/15 [==============================] - 0s 24ms/step - loss: 0.4268 - acc: 0.7917 - val_loss: 0.3384 - val_acc: 1.0000\n",
            "Epoch 12/100\n",
            "15/15 [==============================] - 0s 24ms/step - loss: 0.4379 - acc: 0.8000 - val_loss: 0.5349 - val_acc: 0.7333\n",
            "Epoch 13/100\n",
            "15/15 [==============================] - 0s 26ms/step - loss: 0.4468 - acc: 0.7833 - val_loss: 0.3323 - val_acc: 0.8667\n",
            "Epoch 14/100\n",
            "15/15 [==============================] - 0s 26ms/step - loss: 0.3570 - acc: 0.8833 - val_loss: 0.3868 - val_acc: 0.8667\n",
            "Epoch 15/100\n",
            "15/15 [==============================] - 0s 26ms/step - loss: 0.4077 - acc: 0.8167 - val_loss: 0.4396 - val_acc: 0.9333\n",
            "Epoch 16/100\n",
            "15/15 [==============================] - 0s 27ms/step - loss: 0.4012 - acc: 0.8750 - val_loss: 0.4249 - val_acc: 0.8667\n",
            "Epoch 17/100\n",
            "15/15 [==============================] - 0s 24ms/step - loss: 0.3451 - acc: 0.8750 - val_loss: 0.3968 - val_acc: 0.8000\n",
            "Epoch 18/100\n",
            "15/15 [==============================] - 0s 27ms/step - loss: 0.3130 - acc: 0.8833 - val_loss: 0.4367 - val_acc: 0.8000\n",
            "Epoch 19/100\n",
            "15/15 [==============================] - 0s 24ms/step - loss: 0.3270 - acc: 0.8667 - val_loss: 0.3724 - val_acc: 0.8667\n",
            "Epoch 20/100\n",
            "15/15 [==============================] - 0s 25ms/step - loss: 0.3132 - acc: 0.8917 - val_loss: 0.4287 - val_acc: 0.8000\n",
            "Epoch 21/100\n",
            "15/15 [==============================] - 0s 33ms/step - loss: 0.3083 - acc: 0.8917 - val_loss: 0.3417 - val_acc: 0.8667\n",
            "Epoch 22/100\n",
            "15/15 [==============================] - 1s 38ms/step - loss: 0.2882 - acc: 0.9083 - val_loss: 0.3732 - val_acc: 0.9333\n",
            "Epoch 23/100\n",
            "15/15 [==============================] - 1s 41ms/step - loss: 0.3072 - acc: 0.9083 - val_loss: 0.3848 - val_acc: 0.8000\n",
            "Epoch 24/100\n",
            "15/15 [==============================] - 1s 38ms/step - loss: 0.2961 - acc: 0.9083 - val_loss: 0.3723 - val_acc: 0.9333\n",
            "Epoch 25/100\n",
            "15/15 [==============================] - 0s 26ms/step - loss: 0.2560 - acc: 0.8917 - val_loss: 0.3880 - val_acc: 0.8000\n",
            "Epoch 26/100\n",
            "15/15 [==============================] - 0s 24ms/step - loss: 0.2399 - acc: 0.9250 - val_loss: 0.4623 - val_acc: 0.7333\n",
            "Epoch 27/100\n",
            "15/15 [==============================] - 0s 25ms/step - loss: 0.2899 - acc: 0.9083 - val_loss: 0.3353 - val_acc: 0.8667\n",
            "Epoch 28/100\n",
            "15/15 [==============================] - 0s 24ms/step - loss: 0.2411 - acc: 0.9167 - val_loss: 0.3454 - val_acc: 0.8667\n",
            "Epoch 29/100\n",
            "15/15 [==============================] - 0s 27ms/step - loss: 0.2354 - acc: 0.9417 - val_loss: 0.3366 - val_acc: 0.8667\n",
            "Epoch 30/100\n",
            "15/15 [==============================] - 0s 25ms/step - loss: 0.2487 - acc: 0.9083 - val_loss: 0.3059 - val_acc: 0.9333\n",
            "Epoch 31/100\n",
            "15/15 [==============================] - 0s 25ms/step - loss: 0.2284 - acc: 0.9333 - val_loss: 0.3564 - val_acc: 0.8667\n",
            "Epoch 32/100\n",
            "15/15 [==============================] - 0s 25ms/step - loss: 0.2128 - acc: 0.9583 - val_loss: 0.2931 - val_acc: 0.9333\n",
            "Epoch 33/100\n",
            "15/15 [==============================] - 0s 26ms/step - loss: 0.1895 - acc: 0.9500 - val_loss: 0.3733 - val_acc: 0.8667\n",
            "Epoch 34/100\n",
            "15/15 [==============================] - 0s 25ms/step - loss: 0.2156 - acc: 0.9250 - val_loss: 0.3373 - val_acc: 0.8667\n",
            "Epoch 35/100\n",
            "15/15 [==============================] - 0s 27ms/step - loss: 0.2502 - acc: 0.8917 - val_loss: 0.3408 - val_acc: 0.8667\n",
            "Epoch 36/100\n",
            "15/15 [==============================] - 0s 25ms/step - loss: 0.1742 - acc: 0.9417 - val_loss: 0.3112 - val_acc: 0.9333\n",
            "Epoch 37/100\n",
            "15/15 [==============================] - 0s 24ms/step - loss: 0.1756 - acc: 0.9583 - val_loss: 0.4005 - val_acc: 0.8000\n",
            "Epoch 38/100\n",
            "15/15 [==============================] - 0s 24ms/step - loss: 0.2070 - acc: 0.9167 - val_loss: 0.4200 - val_acc: 0.8000\n",
            "Epoch 39/100\n",
            "15/15 [==============================] - 0s 24ms/step - loss: 0.1794 - acc: 0.9583 - val_loss: 0.3457 - val_acc: 0.8667\n",
            "Epoch 40/100\n",
            "15/15 [==============================] - 0s 24ms/step - loss: 0.1467 - acc: 0.9750 - val_loss: 0.3459 - val_acc: 0.8667\n",
            "Epoch 41/100\n",
            "15/15 [==============================] - 0s 24ms/step - loss: 0.1944 - acc: 0.9167 - val_loss: 0.4942 - val_acc: 0.8000\n",
            "Epoch 42/100\n",
            "15/15 [==============================] - 0s 25ms/step - loss: 0.2480 - acc: 0.8917 - val_loss: 0.3842 - val_acc: 0.8000\n",
            "Epoch 43/100\n",
            "15/15 [==============================] - 0s 25ms/step - loss: 0.1799 - acc: 0.9500 - val_loss: 0.3169 - val_acc: 0.8667\n",
            "Epoch 44/100\n",
            "15/15 [==============================] - 0s 24ms/step - loss: 0.1970 - acc: 0.9333 - val_loss: 0.3374 - val_acc: 0.8667\n",
            "Epoch 45/100\n",
            "15/15 [==============================] - 0s 27ms/step - loss: 0.1330 - acc: 0.9750 - val_loss: 0.4489 - val_acc: 0.8667\n",
            "Epoch 46/100\n",
            "15/15 [==============================] - 1s 38ms/step - loss: 0.1488 - acc: 0.9500 - val_loss: 0.4233 - val_acc: 0.8000\n",
            "Epoch 47/100\n",
            "15/15 [==============================] - 1s 40ms/step - loss: 0.1208 - acc: 0.9750 - val_loss: 0.3481 - val_acc: 0.8667\n",
            "Epoch 48/100\n",
            "15/15 [==============================] - 1s 46ms/step - loss: 0.1215 - acc: 0.9750 - val_loss: 0.4213 - val_acc: 0.8667\n",
            "Epoch 49/100\n",
            "15/15 [==============================] - 1s 33ms/step - loss: 0.1243 - acc: 0.9667 - val_loss: 0.3386 - val_acc: 0.8667\n",
            "Epoch 50/100\n",
            "15/15 [==============================] - 0s 25ms/step - loss: 0.1065 - acc: 0.9750 - val_loss: 0.5081 - val_acc: 0.8000\n",
            "Epoch 51/100\n",
            "15/15 [==============================] - 0s 25ms/step - loss: 0.1068 - acc: 0.9750 - val_loss: 0.4007 - val_acc: 0.8667\n",
            "Epoch 52/100\n",
            "15/15 [==============================] - 0s 24ms/step - loss: 0.1135 - acc: 0.9667 - val_loss: 0.3824 - val_acc: 0.8667\n",
            "Epoch 53/100\n",
            "15/15 [==============================] - 0s 24ms/step - loss: 0.1167 - acc: 0.9833 - val_loss: 0.6262 - val_acc: 0.7333\n",
            "Epoch 54/100\n",
            "15/15 [==============================] - 0s 25ms/step - loss: 0.1825 - acc: 0.9417 - val_loss: 0.5804 - val_acc: 0.8000\n",
            "Epoch 55/100\n",
            "15/15 [==============================] - 0s 25ms/step - loss: 0.1289 - acc: 0.9833 - val_loss: 0.4024 - val_acc: 0.8667\n",
            "Epoch 56/100\n",
            "15/15 [==============================] - 0s 25ms/step - loss: 0.1357 - acc: 0.9583 - val_loss: 0.5528 - val_acc: 0.6667\n",
            "Epoch 57/100\n",
            "15/15 [==============================] - 0s 24ms/step - loss: 0.1470 - acc: 0.9250 - val_loss: 0.4079 - val_acc: 0.8667\n",
            "Epoch 58/100\n",
            "15/15 [==============================] - 0s 25ms/step - loss: 0.1572 - acc: 0.9250 - val_loss: 0.3739 - val_acc: 0.8000\n",
            "Epoch 59/100\n",
            "15/15 [==============================] - 0s 25ms/step - loss: 0.1189 - acc: 0.9583 - val_loss: 0.4302 - val_acc: 0.8667\n",
            "Epoch 60/100\n",
            "15/15 [==============================] - 0s 26ms/step - loss: 0.0893 - acc: 0.9833 - val_loss: 0.3626 - val_acc: 0.8667\n",
            "Epoch 61/100\n",
            "15/15 [==============================] - 0s 26ms/step - loss: 0.1032 - acc: 0.9750 - val_loss: 0.3980 - val_acc: 0.8000\n",
            "Epoch 62/100\n",
            "15/15 [==============================] - 0s 27ms/step - loss: 0.1117 - acc: 0.9750 - val_loss: 0.4252 - val_acc: 0.8667\n",
            "Epoch 63/100\n",
            "15/15 [==============================] - 0s 24ms/step - loss: 0.1090 - acc: 0.9500 - val_loss: 0.4390 - val_acc: 0.9333\n",
            "Epoch 64/100\n",
            "15/15 [==============================] - 0s 25ms/step - loss: 0.0812 - acc: 0.9917 - val_loss: 0.5851 - val_acc: 0.8000\n",
            "Epoch 65/100\n",
            "15/15 [==============================] - 0s 25ms/step - loss: 0.0849 - acc: 0.9833 - val_loss: 0.5419 - val_acc: 0.7333\n",
            "Epoch 66/100\n",
            "15/15 [==============================] - 0s 25ms/step - loss: 0.0745 - acc: 0.9917 - val_loss: 0.4639 - val_acc: 0.8667\n",
            "Epoch 67/100\n",
            "15/15 [==============================] - 0s 26ms/step - loss: 0.0594 - acc: 1.0000 - val_loss: 0.3911 - val_acc: 0.8000\n",
            "Epoch 68/100\n",
            "15/15 [==============================] - 1s 37ms/step - loss: 0.0726 - acc: 0.9833 - val_loss: 0.3820 - val_acc: 0.8667\n",
            "Epoch 69/100\n",
            "15/15 [==============================] - 1s 42ms/step - loss: 0.0761 - acc: 0.9917 - val_loss: 0.4506 - val_acc: 0.8667\n",
            "Epoch 70/100\n",
            "15/15 [==============================] - 1s 45ms/step - loss: 0.0595 - acc: 0.9833 - val_loss: 0.4354 - val_acc: 0.8667\n",
            "Epoch 71/100\n",
            "15/15 [==============================] - 1s 36ms/step - loss: 0.0515 - acc: 1.0000 - val_loss: 0.4576 - val_acc: 0.8667\n",
            "Epoch 72/100\n",
            "15/15 [==============================] - 0s 26ms/step - loss: 0.0439 - acc: 1.0000 - val_loss: 0.4515 - val_acc: 0.8000\n",
            "Epoch 73/100\n",
            "15/15 [==============================] - 0s 24ms/step - loss: 0.0776 - acc: 0.9833 - val_loss: 0.8191 - val_acc: 0.6667\n",
            "Epoch 74/100\n",
            "15/15 [==============================] - 0s 25ms/step - loss: 0.0867 - acc: 0.9833 - val_loss: 0.7917 - val_acc: 0.6667\n",
            "Epoch 75/100\n",
            "15/15 [==============================] - 0s 26ms/step - loss: 0.0777 - acc: 0.9833 - val_loss: 0.6275 - val_acc: 0.6667\n",
            "Epoch 76/100\n",
            "15/15 [==============================] - 0s 25ms/step - loss: 0.0404 - acc: 1.0000 - val_loss: 0.3798 - val_acc: 0.8000\n",
            "Epoch 77/100\n",
            "15/15 [==============================] - 0s 24ms/step - loss: 0.0381 - acc: 1.0000 - val_loss: 0.4293 - val_acc: 0.8667\n",
            "Epoch 78/100\n",
            "15/15 [==============================] - 0s 25ms/step - loss: 0.0386 - acc: 1.0000 - val_loss: 0.4193 - val_acc: 0.8667\n",
            "Epoch 79/100\n",
            "15/15 [==============================] - 0s 23ms/step - loss: 0.0407 - acc: 1.0000 - val_loss: 0.4201 - val_acc: 0.8667\n",
            "Epoch 80/100\n",
            "15/15 [==============================] - 0s 26ms/step - loss: 0.0338 - acc: 1.0000 - val_loss: 0.4154 - val_acc: 0.8000\n",
            "Epoch 81/100\n",
            "15/15 [==============================] - 0s 24ms/step - loss: 0.0344 - acc: 0.9917 - val_loss: 0.4663 - val_acc: 0.8667\n",
            "Epoch 82/100\n",
            "15/15 [==============================] - 0s 25ms/step - loss: 0.0287 - acc: 1.0000 - val_loss: 0.4264 - val_acc: 0.8667\n",
            "Epoch 83/100\n",
            "15/15 [==============================] - 0s 24ms/step - loss: 0.0263 - acc: 1.0000 - val_loss: 0.4240 - val_acc: 0.8667\n",
            "Epoch 84/100\n",
            "15/15 [==============================] - 0s 25ms/step - loss: 0.0247 - acc: 1.0000 - val_loss: 0.4210 - val_acc: 0.8000\n",
            "Epoch 85/100\n",
            "15/15 [==============================] - 0s 25ms/step - loss: 0.0252 - acc: 1.0000 - val_loss: 0.4265 - val_acc: 0.8000\n",
            "Epoch 86/100\n",
            "15/15 [==============================] - 0s 25ms/step - loss: 0.0278 - acc: 1.0000 - val_loss: 0.4422 - val_acc: 0.8667\n",
            "Epoch 87/100\n",
            "15/15 [==============================] - 0s 25ms/step - loss: 0.0236 - acc: 1.0000 - val_loss: 0.4604 - val_acc: 0.8667\n",
            "Epoch 88/100\n",
            "15/15 [==============================] - 0s 26ms/step - loss: 0.0214 - acc: 1.0000 - val_loss: 0.4305 - val_acc: 0.8000\n",
            "Epoch 89/100\n",
            "15/15 [==============================] - 0s 25ms/step - loss: 0.0262 - acc: 1.0000 - val_loss: 0.4150 - val_acc: 0.8667\n",
            "Epoch 90/100\n",
            "15/15 [==============================] - 0s 25ms/step - loss: 0.0220 - acc: 1.0000 - val_loss: 0.4510 - val_acc: 0.8000\n",
            "Epoch 91/100\n",
            "15/15 [==============================] - 0s 26ms/step - loss: 0.0272 - acc: 1.0000 - val_loss: 0.4276 - val_acc: 0.8000\n",
            "Epoch 92/100\n",
            "15/15 [==============================] - 1s 39ms/step - loss: 0.0185 - acc: 1.0000 - val_loss: 0.4440 - val_acc: 0.8000\n",
            "Epoch 93/100\n",
            "15/15 [==============================] - 1s 36ms/step - loss: 0.0167 - acc: 1.0000 - val_loss: 0.4961 - val_acc: 0.8667\n",
            "Epoch 94/100\n",
            "15/15 [==============================] - 1s 35ms/step - loss: 0.0185 - acc: 1.0000 - val_loss: 0.4499 - val_acc: 0.8000\n",
            "Epoch 95/100\n",
            "15/15 [==============================] - 1s 42ms/step - loss: 0.0204 - acc: 1.0000 - val_loss: 0.4440 - val_acc: 0.8000\n",
            "Epoch 96/100\n",
            "15/15 [==============================] - 1s 39ms/step - loss: 0.0239 - acc: 1.0000 - val_loss: 0.4622 - val_acc: 0.8667\n",
            "Epoch 97/100\n",
            "15/15 [==============================] - 0s 31ms/step - loss: 0.0324 - acc: 1.0000 - val_loss: 0.6217 - val_acc: 0.7333\n",
            "Epoch 98/100\n",
            "15/15 [==============================] - 0s 26ms/step - loss: 0.0243 - acc: 1.0000 - val_loss: 0.5080 - val_acc: 0.8667\n",
            "Epoch 99/100\n",
            "15/15 [==============================] - 0s 24ms/step - loss: 0.0228 - acc: 1.0000 - val_loss: 0.5894 - val_acc: 0.8000\n",
            "Epoch 100/100\n",
            "15/15 [==============================] - 0s 25ms/step - loss: 0.0202 - acc: 1.0000 - val_loss: 0.5402 - val_acc: 0.8000\n"
          ]
        }
      ]
    },
    {
      "cell_type": "markdown",
      "metadata": {
        "id": "7h2kqqa0tpx9"
      },
      "source": [
        "**9. Model saving**"
      ]
    },
    {
      "cell_type": "code",
      "metadata": {
        "id": "AMlZWxBhnfjh"
      },
      "source": [
        "model.save('covid_classification.h5')"
      ],
      "execution_count": 24,
      "outputs": []
    },
    {
      "cell_type": "markdown",
      "metadata": {
        "id": "v64VrifGtsSn"
      },
      "source": [
        "**10. Model loading**"
      ]
    },
    {
      "cell_type": "code",
      "metadata": {
        "id": "h5kAXwzBoIzp"
      },
      "source": [
        "from tensorflow.keras import models\n",
        "model = models.load_model('covid_classification.h5')"
      ],
      "execution_count": 25,
      "outputs": []
    },
    {
      "cell_type": "markdown",
      "metadata": {
        "id": "EuGiWfjQtvDq"
      },
      "source": [
        "**11. Model weights saving**"
      ]
    },
    {
      "cell_type": "code",
      "metadata": {
        "id": "brmKRhGtoZVA"
      },
      "source": [
        "model.save_weights('covid_classification_weights.h5')"
      ],
      "execution_count": 26,
      "outputs": []
    },
    {
      "cell_type": "markdown",
      "metadata": {
        "id": "g_mHfakptxUF"
      },
      "source": [
        "**12. Model weights loading**"
      ]
    },
    {
      "cell_type": "code",
      "metadata": {
        "id": "Oc3YG_vioL9a"
      },
      "source": [
        "model.load_weights('covid_classification_weights.h5')"
      ],
      "execution_count": 27,
      "outputs": []
    },
    {
      "cell_type": "markdown",
      "metadata": {
        "id": "YJhgz0AAtzcm"
      },
      "source": [
        "**13. Plotting accuracy and loss graph for training and validation dataset**"
      ]
    },
    {
      "cell_type": "code",
      "metadata": {
        "id": "lKLbBshSocU6"
      },
      "source": [
        "train_acc = history.history['acc']\n",
        "val_acc = history.history['val_acc']\n",
        "train_loss = history.history['loss']\n",
        "val_loss = history.history['val_loss']"
      ],
      "execution_count": 28,
      "outputs": []
    },
    {
      "cell_type": "code",
      "metadata": {
        "id": "BfqOqEpVogvN",
        "colab": {
          "base_uri": "https://localhost:8080/",
          "height": 905
        },
        "outputId": "27bed3bc-3970-413a-8969-e9b792ae4c5b"
      },
      "source": [
        "import matplotlib.pyplot as plt\n",
        "epochs = range(len(train_acc))\n",
        "plt.plot(epochs, train_acc, 'b', label='Training Accuracy')\n",
        "plt.plot(epochs, val_acc, 'r', label='Validation Accuracy')\n",
        "plt.title('Training and Validation Accuracy')\n",
        "plt.legend()\n",
        "plt.figure()\n",
        "plt.show()\n",
        "\n",
        "plt.plot(epochs, train_loss, 'b', label='Training Loss')\n",
        "plt.plot(epochs, val_loss, 'r', label='Validation Loss')\n",
        "plt.title('Training and Validation Loss')\n",
        "plt.legend()\n",
        "plt.show()\n"
      ],
      "execution_count": 29,
      "outputs": [
        {
          "output_type": "display_data",
          "data": {
            "text/plain": [
              "<Figure size 640x480 with 1 Axes>"
            ],
            "image/png": "[encoded data removed]"
          },
          "metadata": {}
        },
        {
          "output_type": "display_data",
          "data": {
            "text/plain": [
              "<Figure size 640x480 with 0 Axes>"
            ]
          },
          "metadata": {}
        },
        {
          "output_type": "display_data",
          "data": {
            "text/plain": [
              "<Figure size 640x480 with 1 Axes>"
            ],
            "image/png": "[encoded data removed]"
          },
          "metadata": {}
        }
      ]
    },
    {
      "cell_type": "markdown",
      "metadata": {
        "id": "LoVhONtnt3sq"
      },
      "source": [
        "**14. Evaluate model performance on test dataset**"
      ]
    },
    {
      "cell_type": "code",
      "metadata": {
        "id": "dxXMTffHoiVy",
        "colab": {
          "base_uri": "https://localhost:8080/"
        },
        "outputId": "88ea11bf-899b-4453-c417-f550ab5bf6c6"
      },
      "source": [
        "test_output= model.evaluate(test_generator, steps=test_generator.samples/test_generator.batch_size, verbose=1)\n",
        "print(test_output)\n",
        "print(model.metrics_names)"
      ],
      "execution_count": 21,
      "outputs": [
        {
          "output_type": "stream",
          "name": "stdout",
          "text": [
            "1/1 [==============================] - 0s 25ms/step - loss: 0.9225 - acc: 0.8000\n",
            "[0.922494649887085, 0.800000011920929]\n",
            "['loss', 'acc']\n"
          ]
        }
      ]
    },
    {
      "cell_type": "code",
      "source": [],
      "metadata": {
        "id": "pvx8AnlQKIrF"
      },
      "execution_count": 21,
      "outputs": []
    },
    {
      "cell_type": "markdown",
      "metadata": {
        "id": "inzAGua1o1we"
      },
      "source": [
        "References:\n",
        "\n",
        "1. https://pypi.org/project/split-folders/\n",
        "2. https://keras.io/"
      ]
    }
  ]
}